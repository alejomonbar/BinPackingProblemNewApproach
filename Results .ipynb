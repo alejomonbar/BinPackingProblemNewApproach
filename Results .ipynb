{
 "cells": [
  {
   "cell_type": "code",
   "execution_count": 1,
   "metadata": {},
   "outputs": [],
   "source": [
    "from functions import BinPacking, BinPackingNewApproach, new_eq_optimal,  get_figure, interpret, eval_constrains\n",
    "from functions import mapping_cost, cost_func, qaoa_circuit, check_best_sol\n",
    "from qiskit.algorithms import QAOA, NumPyMinimumEigensolver\n",
    "from qiskit_optimization.algorithms import CplexOptimizer, MinimumEigenOptimizer\n",
    "from qiskit.algorithms.optimizers import COBYLA\n",
    "import numpy as np\n",
    "from qiskit_optimization.problems.constraint import ConstraintSense\n",
    "import matplotlib.pyplot as plt\n",
    "from scipy.optimize import minimize\n",
    "\n",
    "from qiskit import Aer\n",
    "backend = Aer.get_backend(\"qasm_simulator\")"
   ]
  },
  {
   "cell_type": "code",
   "execution_count": 26,
   "metadata": {},
   "outputs": [
    {
     "name": "stdout",
     "output_type": "stream",
     "text": [
      "----------- Case 1 -------------\n",
      "True\n",
      "----------- Case 2 -------------\n",
      "True\n",
      "----------- Case 3 -------------\n",
      "True\n",
      "----------- Case 4 -------------\n",
      "True\n",
      "----------- Case 5 -------------\n",
      "True\n",
      "----------- Case 6 -------------\n",
      "True\n",
      "----------- Case 7 -------------\n",
      "True\n",
      "----------- Case 8 -------------\n",
      "True\n",
      "----------- Case 9 -------------\n",
      "True\n",
      "----------- Case 10 -------------\n",
      "True\n",
      "----------- Case 11 -------------\n",
      "False\n",
      "----------- Case 12 -------------\n",
      "True\n",
      "----------- Case 13 -------------\n",
      "True\n",
      "----------- Case 14 -------------\n",
      "True\n",
      "----------- Case 15 -------------\n",
      "True\n",
      "----------- Case 16 -------------\n",
      "True\n",
      "----------- Case 17 -------------\n",
      "True\n",
      "----------- Case 18 -------------\n",
      "True\n",
      "----------- Case 19 -------------\n",
      "True\n",
      "----------- Case 20 -------------\n",
      "True\n",
      "----------- Case 21 -------------\n",
      "True\n",
      "----------- Case 22 -------------\n",
      "True\n",
      "----------- Case 23 -------------\n",
      "True\n",
      "----------- Case 24 -------------\n",
      "True\n",
      "----------- Case 25 -------------\n",
      "True\n",
      "----------- Case 26 -------------\n",
      "True\n",
      "----------- Case 27 -------------\n",
      "True\n",
      "----------- Case 28 -------------\n",
      "True\n",
      "----------- Case 29 -------------\n",
      "True\n",
      "----------- Case 30 -------------\n",
      "True\n",
      "----------- Case 31 -------------\n",
      "True\n",
      "----------- Case 32 -------------\n",
      "True\n",
      "----------- Case 33 -------------\n",
      "True\n",
      "----------- Case 34 -------------\n",
      "True\n",
      "----------- Case 35 -------------\n",
      "False\n",
      "----------- Case 36 -------------\n",
      "True\n",
      "----------- Case 37 -------------\n",
      "True\n",
      "----------- Case 38 -------------\n",
      "True\n",
      "----------- Case 39 -------------\n",
      "False\n",
      "----------- Case 40 -------------\n",
      "True\n",
      "----------- Case 41 -------------\n",
      "True\n",
      "----------- Case 42 -------------\n",
      "True\n",
      "----------- Case 43 -------------\n",
      "True\n",
      "----------- Case 44 -------------\n",
      "True\n",
      "----------- Case 45 -------------\n",
      "True\n",
      "----------- Case 46 -------------\n",
      "True\n",
      "----------- Case 47 -------------\n",
      "True\n",
      "----------- Case 48 -------------\n",
      "True\n",
      "----------- Case 49 -------------\n",
      "True\n",
      "----------- Case 50 -------------\n",
      "False\n",
      "----------- Case 51 -------------\n",
      "True\n",
      "----------- Case 52 -------------\n",
      "True\n",
      "----------- Case 53 -------------\n",
      "False\n",
      "----------- Case 54 -------------\n",
      "True\n",
      "----------- Case 55 -------------\n",
      "True\n",
      "----------- Case 56 -------------\n",
      "True\n",
      "----------- Case 57 -------------\n",
      "True\n",
      "----------- Case 58 -------------\n",
      "True\n",
      "----------- Case 59 -------------\n",
      "True\n",
      "----------- Case 60 -------------\n",
      "True\n",
      "----------- Case 61 -------------\n",
      "True\n",
      "----------- Case 62 -------------\n",
      "True\n",
      "----------- Case 63 -------------\n",
      "True\n",
      "----------- Case 64 -------------\n",
      "True\n",
      "----------- Case 65 -------------\n",
      "True\n",
      "----------- Case 66 -------------\n",
      "True\n",
      "----------- Case 67 -------------\n",
      "True\n",
      "----------- Case 68 -------------\n",
      "False\n",
      "----------- Case 69 -------------\n",
      "True\n",
      "----------- Case 70 -------------\n",
      "True\n",
      "----------- Case 71 -------------\n",
      "True\n",
      "----------- Case 72 -------------\n",
      "True\n",
      "----------- Case 73 -------------\n",
      "True\n",
      "----------- Case 74 -------------\n",
      "True\n",
      "----------- Case 75 -------------\n",
      "True\n",
      "----------- Case 76 -------------\n",
      "True\n",
      "----------- Case 77 -------------\n",
      "True\n",
      "----------- Case 78 -------------\n",
      "True\n",
      "----------- Case 79 -------------\n",
      "True\n",
      "----------- Case 80 -------------\n",
      "True\n",
      "----------- Case 81 -------------\n",
      "True\n",
      "----------- Case 82 -------------\n",
      "True\n",
      "----------- Case 83 -------------\n",
      "True\n",
      "----------- Case 84 -------------\n",
      "True\n",
      "----------- Case 85 -------------\n",
      "True\n",
      "----------- Case 86 -------------\n",
      "True\n",
      "----------- Case 87 -------------\n",
      "True\n",
      "----------- Case 88 -------------\n",
      "True\n",
      "----------- Case 89 -------------\n",
      "True\n",
      "----------- Case 90 -------------\n",
      "True\n",
      "----------- Case 91 -------------\n",
      "True\n",
      "----------- Case 92 -------------\n",
      "True\n",
      "----------- Case 93 -------------\n",
      "True\n",
      "----------- Case 94 -------------\n",
      "True\n",
      "----------- Case 95 -------------\n",
      "True\n",
      "----------- Case 96 -------------\n",
      "True\n",
      "----------- Case 97 -------------\n",
      "True\n",
      "----------- Case 98 -------------\n",
      "True\n",
      "----------- Case 99 -------------\n",
      "True\n",
      "----------- Case 100 -------------\n",
      "True\n"
     ]
    }
   ],
   "source": [
    "#np.random.seed(1)\n",
    "num_items = 4 # number of items\n",
    "num_bins = num_items # maximum number of bins\n",
    "max_weight = 15 # max weight of a bin\n",
    "cases = 100\n",
    "solutions_new = {}\n",
    "optimal_new = []\n",
    "ratio_new = []; new =[]\n",
    "result_classical = []; result_qaoa_new = []\n",
    "check_const = []\n",
    "weights=[]\n",
    "qaoa = MinimumEigenOptimizer(QAOA(optimizer=COBYLA(maxiter=100), reps=4, quantum_instance=backend))\n",
    "for i in range(cases): # Testing 5 different randomly selected configurations of the problem\n",
    "    print(f\"----------- Case {i+1} -------------\")\n",
    "    weights.append(np.random.randint(1, max_weight, num_items)) # Randomly picking the item weight\n",
    "    qubo_new = BinPackingNewApproach(num_items, num_bins, weights[-1], max_weight, alpha=1, simplification=True)\n",
    "    qubo_classical, qp = BinPacking(num_items, num_bins, weights[-1], max_weight, simplification=True)\n",
    "    result_classical.append(CplexOptimizer().solve(qubo_classical))\n",
    "    optimal_new.append(new_eq_optimal(qubo_new, qubo_classical))\n",
    "    result_qaoa_new.append(CplexOptimizer().solve(qubo_new))\n",
    "    solutions_new = result_qaoa_new[-1].fval\n",
    "    new.append(solutions_new)\n",
    "    check_const.append(eval_constrains(qp, result_qaoa_new[-1].x, max_weight))\n",
    "    print(check_const[-1])\n"
   ]
  },
  {
   "cell_type": "code",
   "execution_count": 27,
   "metadata": {},
   "outputs": [
    {
     "name": "stdout",
     "output_type": "stream",
     "text": [
      " The percetage of positive cases is 94.0 %\n"
     ]
    }
   ],
   "source": [
    "print(f\" The percetage of positive cases is {100*np.sum(check_const)/cases} %\")"
   ]
  },
  {
   "cell_type": "code",
   "execution_count": 15,
   "metadata": {},
   "outputs": [
    {
     "data": {
      "image/png": "[encoded data removed]",
      "text/plain": [
       "<Figure size 432x288 with 1 Axes>"
      ]
     },
     "metadata": {
      "needs_background": "light"
     },
     "output_type": "display_data"
    },
    {
     "data": {
      "image/png": "[encoded data removed]",
      "text/plain": [
       "<Figure size 432x288 with 1 Axes>"
      ]
     },
     "metadata": {
      "needs_background": "light"
     },
     "output_type": "display_data"
    }
   ],
   "source": [
    "for i in range(len(result_classical)):\n",
    "    fig = get_figure(interpret(result_classical[i].x, weights[i], max_weight, num_items, num_bins, simplify=True), weights[i], max_weight, title=f\"-------Case {i+1}-----\")\n",
    "    fig = get_figure(interpret(result_qaoa_new[i].x, weights[i], max_weight, num_items, num_bins, simplify=True), weights[i], max_weight, title=\"New\")"
   ]
  },
  {
   "cell_type": "code",
   "execution_count": 17,
   "metadata": {},
   "outputs": [],
   "source": [
    "n = 5\n",
    "alpha = np.linspace(0, 2*np.pi, n)\n",
    "beta = np.linspace(0, np.pi, n)\n",
    "map_cost_10 = mapping_cost(alpha, beta, qubo_new, n = 10)\n",
    "map_cost_20 = mapping_cost(alpha, beta, qubo_new, n = 20)"
   ]
  },
  {
   "cell_type": "code",
   "execution_count": 18,
   "metadata": {},
   "outputs": [
    {
     "data": {
      "image/png": "[encoded data removed]",
      "text/plain": [
       "<Figure size 720x720 with 2 Axes>"
      ]
     },
     "metadata": {
      "needs_background": "light"
     },
     "output_type": "display_data"
    }
   ],
   "source": [
    "fig, ax = plt.subplots(1,2, figsize=(10,10))\n",
    "ax[0].imshow(np.log(map_cost_10))\n",
    "ax[1].imshow(np.log(map_cost_20))\n",
    "for i in range(2):\n",
    "#     ax[i].set_xticks([0,9,19], [\"0\", r\"$\\pi/2$\", r\"$\\pi$\"])\n",
    "#     ax[i].set_yticks([0,9,19], [\"0\", r\"$\\pi$\", r\"2$\\pi$\"])\n",
    "    ax[i].set_xlabel(r\"$\\beta$\", fontsize=22)\n",
    "    ax[i].set_ylabel(r\"$\\alpha$\", fontsize=22)\n"
   ]
  },
  {
   "cell_type": "code",
   "execution_count": 25,
   "metadata": {},
   "outputs": [],
   "source": [
    "x0 = np.random.rand(2)\n",
    "circuit = qaoa_circuit(qubo_new)\n",
    "objective = qubo_new.objective\n",
    "num_evals = 10\n",
    "fmin = minimize(cost_func, x0, args = (circuit, objective, num_evals), method=\"COBYLA\")"
   ]
  },
  {
   "cell_type": "code",
   "execution_count": 20,
   "metadata": {},
   "outputs": [],
   "source": [
    "best_sol = check_best_sol(fmin.x, circuit, qp, max_weight, n=20)"
   ]
  },
  {
   "cell_type": "code",
   "execution_count": 21,
   "metadata": {},
   "outputs": [
    {
     "name": "stdout",
     "output_type": "stream",
     "text": [
      " minimum my cost_fun [1, 1, 0, 0, 0, 1, 0], minimum with cplex [0. 1. 0. 0. 0. 1. 0.]\n"
     ]
    }
   ],
   "source": [
    "print(f\" minimum my cost_fun {best_sol}, minimum with cplex {result_qaoa_new[-1].x}\")"
   ]
  },
  {
   "cell_type": "code",
   "execution_count": 22,
   "metadata": {},
   "outputs": [
    {
     "data": {
      "image/png": "[encoded data removed]",
      "text/plain": [
       "<Figure size 432x288 with 1 Axes>"
      ]
     },
     "metadata": {
      "needs_background": "light"
     },
     "output_type": "display_data"
    }
   ],
   "source": [
    "fig = get_figure(interpret(np.array(best_sol), weights[-1], max_weight, num_items, num_bins, simplify=True), weights[-1], max_weight, title=f\"-------Case {i+1}-----\")\n"
   ]
  },
  {
   "cell_type": "code",
   "execution_count": 12,
   "metadata": {},
   "outputs": [
    {
     "data": {
      "text/plain": [
       "[1, 0, 1, 0, 0, 1, 0]"
      ]
     },
     "execution_count": 12,
     "metadata": {},
     "output_type": "execute_result"
    }
   ],
   "source": [
    "best_sol"
   ]
  },
  {
   "cell_type": "code",
   "execution_count": 8,
   "metadata": {},
   "outputs": [
    {
     "name": "stdout",
     "output_type": "stream",
     "text": [
      "0.0\n",
      "0.0\n",
      "0.0\n",
      "0.0\n",
      "-15.0\n"
     ]
    }
   ],
   "source": [
    "constraints = qp.linear_constraints\n",
    "for i in constraints:\n",
    "    print(i.evaluate(best_sol))\n"
   ]
  },
  {
   "cell_type": "code",
   "execution_count": null,
   "metadata": {},
   "outputs": [],
   "source": []
  }
 ],
 "metadata": {
  "kernelspec": {
   "display_name": "Python 3",
   "language": "python",
   "name": "python3"
  },
  "language_info": {
   "codemirror_mode": {
    "name": "ipython",
    "version": 3
   },
   "file_extension": ".py",
   "mimetype": "text/x-python",
   "name": "python",
   "nbconvert_exporter": "python",
   "pygments_lexer": "ipython3",
   "version": "3.8.3"
  }
 },
 "nbformat": 4,
 "nbformat_minor": 4
}
